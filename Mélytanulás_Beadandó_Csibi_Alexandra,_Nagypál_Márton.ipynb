{
  "cells": [
    {
      "cell_type": "markdown",
      "metadata": {
        "id": "view-in-github",
        "colab_type": "text"
      },
      "source": [
        "<a href=\"https://colab.research.google.com/github/NagypalMarton/DeepLearning_Assignment-Disgenet/blob/main/M%C3%A9lytanul%C3%A1s_Beadand%C3%B3_Csibi_Alexandra%2C_Nagyp%C3%A1l_M%C3%A1rton.ipynb\" target=\"_parent\"><img src=\"https://colab.research.google.com/assets/colab-badge.svg\" alt=\"Open In Colab\"/></a>"
      ]
    },
    {
      "cell_type": "markdown",
      "metadata": {
        "id": "wqFIvG9u3RJS"
      },
      "source": [
        "# Disease-gene interaction prediction with graph neural networks"
      ]
    },
    {
      "cell_type": "markdown",
      "metadata": {
        "id": "KhjoT0ni3TL9"
      },
      "source": [
        "The goal of this project is to create a graph neural network for predicting disease-gene associations. Working with DisGeNET, a comprehensive database of these associations, you'll apply deep learning to an important challenge of bioinformatics. By choosing this project, you'll gain experience in the intersection of deep learning and bioinformatics while extracting valuable insights from real-world data.\n",
        "\n",
        "Dataset:\n",
        "https://www.disgenet.org/\n",
        "\n",
        "Related GitHub repository:\n",
        "https://github.com/pyg-team/pytorch_geometric\n",
        "\n",
        "Related papers:\n",
        "https://arxiv.org/abs/1607.00653\n",
        "https://arxiv.org/abs/1611.07308"
      ]
    },
    {
      "cell_type": "markdown",
      "metadata": {
        "id": "joeg1QICzPwE"
      },
      "source": [
        "# Konténerizáció"
      ]
    },
    {
      "cell_type": "markdown",
      "metadata": {
        "id": "MHclIHQyzXVM"
      },
      "source": [
        "\n",
        "Szükséges csomagok, szoftverek:\n",
        "*   [Docker](https://docs.docker.com/engine/install/)\n",
        "*   [Pytorch](https://hub.docker.com/r/pytorch/pytorch/tags)\n",
        "* [pytorch_geometric](https://github.com/pyg-team/pytorch_geometric)\n",
        "* [NVIDIA CUDA](https://hub.docker.com/r/nvidia/cuda)\n",
        "\n"
      ]
    },
    {
      "cell_type": "markdown",
      "source": [
        "**Dockerfile**\n",
        "\n",
        "---\n"
      ],
      "metadata": {
        "id": "dSbBEa3HF4Xs"
      }
    },
    {
      "cell_type": "markdown",
      "source": [
        "\n",
        "\n",
        "```\n",
        "# Use an official PyTorch image with CUDA support\n",
        "FROM pytorch/pytorch:2.0.0-cuda11.7-cudnn8-runtime\n",
        "\n",
        "# Environment variable\n",
        "ENV HOME /home/tesztuser\n",
        "RUN mkdir -p $HOME/DeepLearning_Assignment\n",
        "WORKDIR $HOME/DeepLearning_Assignment\n",
        "ENV CSV=${CSV:-$HOME/DeepLearning_Assignment/disgenet-GDA.csv}\n",
        "\n",
        "# Install Git and other dependencies\n",
        "RUN apt-get update && apt-get install -y git\n",
        "\n",
        "# Copy local files into the container\n",
        "COPY . .\n",
        "\n",
        "# Install Python dependencies from requirements.txt\n",
        "RUN pip install --upgrade pip \\\n",
        "    && pip install --no-cache-dir -r requirements.txt\n",
        "\n",
        "# Clone the GitHub repository into the project directory\n",
        "RUN git clone https://github.com/NagypalMarton/DeepLearning_Assignment-Disgenet.git $HOME/DeepLearning_Assignment-Disgenet\n",
        "\n",
        "# Set the working directory to the cloned repository\n",
        "WORKDIR $HOME/DeepLearning_Assignment-Disgenet\n",
        "\n",
        "# Expose port 8888 for Jupyter Notebook\n",
        "EXPOSE 8888\n",
        "\n",
        "# Default command to run JupyterLab\n",
        "CMD [\"jupyter-lab\", \"--ip=0.0.0.0\", \"--port=8888\", \"--no-browser\", \"--allow-root\"]\n",
        "\n",
        "```\n",
        "\n"
      ],
      "metadata": {
        "id": "4chr3XlyFsYj"
      }
    },
    {
      "cell_type": "markdown",
      "source": [
        "**requirements.txt**\n",
        "\n",
        "\n",
        "---\n",
        "\n",
        "\n",
        "\n",
        "```\n",
        "pandas==2.2.3\n",
        "numpy==2.1.2\n",
        "seaborn==0.13.2\n",
        "matplotlib==3.9.2\n",
        "scikit-learn==1.5.2\n",
        "torch-geometric==2.6.1\n",
        "jupyterlab==4.2.5\n",
        "```\n"
      ],
      "metadata": {
        "id": "JWRn4VWSGY9f"
      }
    },
    {
      "cell_type": "markdown",
      "metadata": {
        "id": "Wc9C8x9zke2l"
      },
      "source": [
        "# Adatgyűjtés\n",
        "*(Data acquisition)*\n",
        "\n"
      ]
    },
    {
      "cell_type": "markdown",
      "metadata": {
        "id": "rH8hVJvysBdE"
      },
      "source": [
        "Szükséges csomagok"
      ]
    },
    {
      "cell_type": "code",
      "execution_count": 14,
      "metadata": {
        "id": "IosaVkmXruap"
      },
      "outputs": [],
      "source": [
        "import requests\n",
        "import time\n",
        "import csv\n",
        "import json\n",
        "import pandas as pd"
      ]
    },
    {
      "cell_type": "markdown",
      "metadata": {
        "id": "H-YGHOHiuETK"
      },
      "source": [
        "Szükséges változók deklalása"
      ]
    },
    {
      "cell_type": "code",
      "execution_count": 15,
      "metadata": {
        "id": "eyCoUeGvuMHl"
      },
      "outputs": [],
      "source": [
        "# Provide your API key\n",
        "# API_KEY = \"c89e2d9e-94b2-4b84-8d22-bb525e63b73b\"\n",
        "API_KEY = \"ad6669df-65b6-45f9-8e02-7ba74e788acd\"\n",
        "\n",
        "# Specify query parameters in a dictionary\n",
        "#disease_IDs = \"MONDO_0007254, MONDO_0008903, MONDO_0008170, MONDO_0004989, MONDO_0007256, NCI_C18078, MONDO_0008315, MONDO_0005159, MONDO_0005575, MONDO_0005252, MONDO_0024644, MONDO_0005009, MONDO_0005335, MONDO_0004995, MONDO_0021100, MONDO_0021661, MONDO_0004975, MONDO_0018874, HP_0030680, MODNO_0100096, MONDO_0005044, MONDO_0015356, MONDO_0009061, MONDO_0003582, MONDO_0005439, MODNO_0007947, MONDO_0007263, MONDO_0005835, MONDO_0004994, MODNO_0008667, MONDO_0013199, MONDO_0011913, MONDO_0008146, MONDO_0018544, MONDO_0008234, MONDO_0021060, MONDO_0010134, MONDO_0019501, MONDO_0018997, MONDO_0008233, MONDO_0008243, MONDO_0015967, MONDO_0016063, MONDO_0018150, MONDO_0005147, MONDO_0005148, MONDO_0005406, MONDO_0018911, MONDO_0005623, MONDO_0013512, MONDO_0024613, MONDO_0005130, MONDO_0005917, MONDO_0005487, MONDO_0040674, MONDO_0004751, MONDO_0005451, MONDO_0005066, MONDO_0005283, MONDO_0000594, MONDO_0002028, MONDO_0002420, MONDO_0000942, MONDO_0006170, MONDO_0032655, MONDO_0003699, MONDO_0100233, MONDO_0100163, NCI_C189227, MSH_C000718087, MSH_C000718087, MONDO_0005350, MONDO_0005160, NCI_C26682, MONDO_0005385, MONDO_0005291, MONDO_0007194, MONDO_0005396, MONDO_0005648, MONDO_0011194, MONDO_0005180, MONDO_0005105, MONDO_0018177, MONDO_0024880, MONDO_0024882, MONDO_0008383, MONDO_0004979, MONDO_0004784, MONDO_0005405, MONDO_0850282, MONDO_0011805\"\n",
        "params = {\n",
        "    \"page_number\": 0,\n",
        "    \"type\": \"disease\"\n",
        "}\n",
        "\n",
        "# Create a dictionary with HTTP headers\n",
        "headers = {\n",
        "    'Authorization': API_KEY,\n",
        "    'accept': 'application/json'\n",
        "}\n",
        "\n",
        "# API endpoints\n",
        "url_gda = \"https://api.disgenet.com/api/v1/gda/summary\"\n",
        "url_disease = \"https://api.disgenet.com/api/v1/entity/disease\""
      ]
    },
    {
      "cell_type": "markdown",
      "metadata": {
        "id": "yTR3nJmt7fox"
      },
      "source": [
        "Kérések küldésének fg-ei"
      ]
    },
    {
      "cell_type": "code",
      "execution_count": 16,
      "metadata": {
        "id": "5zxvXNQS7e4d"
      },
      "outputs": [],
      "source": [
        "# Function to handle API requests with rate-limiting handling\n",
        "def make_request(url, params, headers):\n",
        "    retries = 0\n",
        "    while retries < 5:\n",
        "        try:\n",
        "            response = requests.get(url, params=params, headers=headers, timeout=10)\n",
        "            # If rate-limited (HTTP 429), retry after waiting\n",
        "            if response.status_code == 429:\n",
        "                wait_time = int(response.headers.get('x-rate-limit-retry-after-seconds', 60))\n",
        "                print(f\"Rate limit exceeded. Waiting {wait_time} seconds...\")\n",
        "                time.sleep(wait_time)\n",
        "                retries += 1\n",
        "            else:\n",
        "                return response  # Return response if successful or error other than 429\n",
        "\n",
        "        except requests.exceptions.RequestException as e:\n",
        "            print(f\"Request error: {e}\")\n",
        "            retries += 1\n",
        "            time.sleep(2)  # Wait before retrying\n",
        "\n",
        "    return None  # Return None if retries are exhausted"
      ]
    },
    {
      "cell_type": "code",
      "execution_count": 17,
      "metadata": {
        "id": "DH9U8r7KiEuQ"
      },
      "outputs": [],
      "source": [
        "def get_max_pages(url, params=params, headers=headers):\n",
        "  response = make_request(url, params=params, headers=headers)\n",
        "  if response.ok:\n",
        "      response_json = response.json()\n",
        "      total_results = response_json.get(\"paging\", {}).get(\"totalElements\", 0)\n",
        "      results_in_page = response_json.get(\"paging\", {}).get(\"totalElementsInPage\", 0)\n",
        "      # mert 100 a max amit enged\n",
        "      max_pages = min((total_results + results_in_page - 1) // results_in_page, 100)\n",
        "  else:\n",
        "      max_pages = 100\n",
        "      print(\"Request failed, returned max_pages=100\")\n",
        "  return max_pages"
      ]
    },
    {
      "cell_type": "code",
      "source": [
        "def get_disease_ids(disease_type):\n",
        "    disease_ids = []\n",
        "    params['disease_free_text_search_string'] = disease_type\n",
        "    #pages = get_max_pages(url_disease, params, headers)\n",
        "\n",
        "    for page in range(100):\n",
        "      params['page_number'] = str(page)\n",
        "      response_disease = make_request(url_disease, params, headers)\n",
        "      if response_disease and response_disease.ok:\n",
        "          response_disease_json = response_disease.json()\n",
        "          data = response_disease_json.get(\"payload\", [])\n",
        "          for item in data:\n",
        "              for code_info in item.get(\"diseaseCodes\", []):\n",
        "                if code_info.get(\"vocabulary\") == \"MONDO\":\n",
        "                  disease_ids.append(f'MONDO_{code_info.get(\"code\")}')\n",
        "      else:\n",
        "          print(f\"Failed to fetch data for page {page}. Status code: {response_disease_json.status_code}\")\n",
        "          break\n",
        "    return disease_ids"
      ],
      "metadata": {
        "id": "-RYAT8IXBX6i"
      },
      "execution_count": 18,
      "outputs": []
    },
    {
      "cell_type": "code",
      "execution_count": 19,
      "metadata": {
        "id": "DvlpBCaZCfl2"
      },
      "outputs": [],
      "source": [
        "def download_gda(disease_ids):\n",
        "    gda_data = []\n",
        "    params['disease'] = disease_ids\n",
        "    #max_pages = get_max_pages(url_gda, params, headers)\n",
        "\n",
        "    for page in range(100):\n",
        "        params['page_number'] = str(page)  # Különböző oldalak lekérése\n",
        "        response_gda = make_request(url_gda, params, headers)\n",
        "        if response_gda and response_gda.ok:\n",
        "            response_json = response_gda.json()\n",
        "            data = response_json.get(\"payload\", [])\n",
        "            gda_data.extend(data)\n",
        "        else:\n",
        "            print(f\"Failed to fetch data for page {page}. Status code: {response_json.status_code}\")\n",
        "            break  # Ha nincs több oldal vagy hiba történik, kilépünk a ciklusból\n",
        "\n",
        "    # Mentés CSV fájlba\n",
        "    # gda_df = pd.DataFrame(all_data)\n",
        "    # gda_df.to_csv('disgenet-GDA.csv', index=False)\n",
        "    # print(f\"All data saved to disgenet-GDA.csv\")\n",
        "    return gda_data\n"
      ]
    },
    {
      "cell_type": "code",
      "source": [
        "def download_all_gda(ids, chunk_size=100):\n",
        "    all_data = []\n",
        "    for i in range(0, len(ids), chunk_size):\n",
        "        ids_chunk = ids[i:i + chunk_size]\n",
        "        ids_string = '\"' + ', '.join(ids_chunk) + '\"'\n",
        "        chunk_data = download_gda(ids_string)\n",
        "        all_data.extend(chunk_data)\n",
        "    df_gda = pd.DataFrame(all_data)\n",
        "    df_gda.to_csv('disgenet-GDA.csv', index=False)\n",
        "    print(f\"All data saved to disgenet-GDA.csv\")"
      ],
      "metadata": {
        "id": "LVer3ekmR7eN"
      },
      "execution_count": 20,
      "outputs": []
    },
    {
      "cell_type": "code",
      "source": [
        "ids = get_disease_ids(\"cancer\")\n",
        "print(len(ids))"
      ],
      "metadata": {
        "colab": {
          "base_uri": "https://localhost:8080/"
        },
        "collapsed": true,
        "id": "hXmoWC0qIXj9",
        "outputId": "f6292b9a-564e-441e-8370-e76a497d9d90"
      },
      "execution_count": 21,
      "outputs": [
        {
          "output_type": "stream",
          "name": "stdout",
          "text": [
            "Rate limit exceeded. Waiting 23 seconds...\n",
            "556\n"
          ]
        }
      ]
    },
    {
      "cell_type": "code",
      "source": [
        "unique_ids = list(set(ids))\n",
        "download_all_gda(unique_ids)"
      ],
      "metadata": {
        "colab": {
          "base_uri": "https://localhost:8080/"
        },
        "id": "9E64Vj-VWHy5",
        "outputId": "f76d0a91-31ed-4ed6-c524-eb2b12146ee9"
      },
      "execution_count": null,
      "outputs": [
        {
          "output_type": "stream",
          "name": "stdout",
          "text": [
            "Rate limit exceeded. Waiting 19 seconds...\n",
            "Rate limit exceeded. Waiting 0 seconds...\n",
            "Rate limit exceeded. Waiting 2 seconds...\n",
            "Rate limit exceeded. Waiting 0 seconds...\n",
            "Rate limit exceeded. Waiting 13 seconds...\n",
            "Rate limit exceeded. Waiting 0 seconds...\n",
            "Rate limit exceeded. Waiting 4 seconds...\n",
            "Rate limit exceeded. Waiting 0 seconds...\n",
            "Rate limit exceeded. Waiting 13 seconds...\n"
          ]
        }
      ]
    },
    {
      "cell_type": "markdown",
      "metadata": {
        "id": "AzJ6BHgOxV6y"
      },
      "source": [
        "# Adat feldolgozás"
      ]
    },
    {
      "cell_type": "code",
      "execution_count": null,
      "metadata": {
        "id": "PV9nAx5dHsHh"
      },
      "outputs": [],
      "source": [
        "import pandas as pd\n",
        "import numpy as np\n",
        "import matplotlib.pyplot as plt\n",
        "import seaborn as sns\n",
        "import ast\n",
        "from sklearn.preprocessing import OneHotEncoder, MultiLabelBinarizer\n",
        "from sklearn.model_selection import train_test_split\n",
        "import re\n",
        "from sklearn.preprocessing import LabelEncoder"
      ]
    },
    {
      "cell_type": "code",
      "execution_count": null,
      "metadata": {
        "id": "Dtjy_OgpHOAX"
      },
      "outputs": [],
      "source": [
        "GDA_df=pd.read_csv('disgenet-GDA.csv', sep=',')\n",
        "GDA_df.head()"
      ]
    },
    {
      "cell_type": "code",
      "source": [
        "GDA_df = GDA_df.map(lambda x: np.nan if x == '[]' else x)\n",
        "GDA_df.info()"
      ],
      "metadata": {
        "id": "u4MEDqeZqaES"
      },
      "execution_count": null,
      "outputs": []
    },
    {
      "cell_type": "code",
      "source": [
        "for column in GDA_df.columns:\n",
        "  print(f\"{column}: {GDA_df[column].nunique()}\")"
      ],
      "metadata": {
        "id": "fGKvOPokBmbp"
      },
      "execution_count": null,
      "outputs": []
    },
    {
      "cell_type": "code",
      "source": [
        "# Convert the IDs from object data type to integer format for better interpretation and processing in the GNN\n",
        "label_encoder = LabelEncoder()\n",
        "GDA_df['diseaseUMLSCUI_encoded'] = label_encoder.fit_transform(GDA_df['diseaseUMLSCUI'])"
      ],
      "metadata": {
        "id": "vVFPbUdRjRK9"
      },
      "execution_count": null,
      "outputs": []
    },
    {
      "cell_type": "code",
      "source": [
        "GDA_df = GDA_df.drop_duplicates(subset=['assocID']).reset_index(drop=True)"
      ],
      "metadata": {
        "id": "QcRlNGE0Bs4U"
      },
      "execution_count": null,
      "outputs": []
    },
    {
      "cell_type": "code",
      "source": [
        "# Gene and disease mappings\n",
        "gene_symbol_mapping = GDA_df[['geneNcbiID', 'symbolOfGene']].drop_duplicates().set_index('geneNcbiID').to_dict()['symbolOfGene']\n",
        "disease_encoded_mapping = GDA_df[['diseaseUMLSCUI_encoded', 'diseaseUMLSCUI']].drop_duplicates().set_index('diseaseUMLSCUI_encoded').to_dict()['diseaseUMLSCUI']\n",
        "disease_name_mapping = GDA_df[['diseaseUMLSCUI', 'diseaseName']].drop_duplicates().set_index('diseaseUMLSCUI').to_dict()['diseaseName']"
      ],
      "metadata": {
        "id": "BiNv4OuEBUoY"
      },
      "execution_count": null,
      "outputs": []
    },
    {
      "cell_type": "code",
      "source": [
        "GDA_df = GDA_df[[\n",
        "    'geneNcbiID',\n",
        "    'geneDSI',\n",
        "    'geneDPI',\n",
        "    'geneNcbiType',\n",
        "    'diseaseUMLSCUI_encoded',\n",
        "    'diseaseClasses_MSH',\n",
        "    'diseaseClasses_UMLS_ST',\n",
        "    'assocID',\n",
        "    'score'\n",
        "]]"
      ],
      "metadata": {
        "id": "DiAI8SFuKLUN"
      },
      "execution_count": null,
      "outputs": []
    },
    {
      "cell_type": "code",
      "source": [
        "# One-hot encoding geneNcbiType\n",
        "enc = OneHotEncoder(handle_unknown='ignore', sparse_output=False)\n",
        "encoded_geneNcbiType = enc.fit_transform(GDA_df[['geneNcbiType']])\n",
        "columns = ['geneType_' + col.split('_')[-1] for col in enc.get_feature_names_out(['geneNcbiType'])]\n",
        "encoded_df = pd.DataFrame(encoded_geneNcbiType, columns=columns)\n",
        "GDA_df = pd.concat([GDA_df.reset_index(drop=True), encoded_df], axis=1).drop('geneNcbiType', axis=1)"
      ],
      "metadata": {
        "id": "Xv2_isiH-_kP"
      },
      "execution_count": null,
      "outputs": []
    },
    {
      "cell_type": "code",
      "source": [
        "# Process diseaseClasses_UMLS_ST and diseaseClasses_MSH\n",
        "# Extracting IDs and names into a mapping\n",
        "def extract_mapping(col):\n",
        "    mapping = {}\n",
        "    for entry in col:\n",
        "        if pd.notnull(entry):\n",
        "            matches = re.findall(r\"'(.+?)\\s+\\((.+?)\\)'\", entry)\n",
        "            for name, id in matches:\n",
        "                mapping[id.strip()] = name.strip()\n",
        "    return mapping"
      ],
      "metadata": {
        "id": "LnHuASt8tWPa"
      },
      "execution_count": null,
      "outputs": []
    },
    {
      "cell_type": "code",
      "source": [
        "diseaseClass_mapping = extract_mapping(GDA_df['diseaseClasses_UMLS_ST'])\n",
        "diseaseClass_mapping.update(extract_mapping(GDA_df['diseaseClasses_MSH']))\n",
        "diseaseClass_mapping"
      ],
      "metadata": {
        "id": "9NhF7uTPQhsA"
      },
      "execution_count": null,
      "outputs": []
    },
    {
      "cell_type": "code",
      "source": [
        "# Keep only IDs for simplicity\n",
        "def clean_classes(entry):\n",
        "    if isinstance(entry, (str, bytes)):\n",
        "        return [match.strip() for match in re.findall(r'\\((.*?)\\)', entry)]\n",
        "    else:\n",
        "        return []\n",
        "\n",
        "GDA_df['diseaseClasses_UMLS_ST'] = GDA_df['diseaseClasses_UMLS_ST'].apply(clean_classes)\n",
        "GDA_df['diseaseClasses_MSH'] = GDA_df['diseaseClasses_MSH'].apply(clean_classes)"
      ],
      "metadata": {
        "id": "4ErdqVMkRKBx"
      },
      "execution_count": null,
      "outputs": []
    },
    {
      "cell_type": "code",
      "source": [
        "# Combine the two lists into a new column for handling missing values in diseaseClasses_MSH\n",
        "GDA_df['diseaseClass'] = GDA_df.apply(\n",
        "    lambda row: list(set(row['diseaseClasses_UMLS_ST'] + row['diseaseClasses_MSH'])),\n",
        "    axis=1\n",
        ")"
      ],
      "metadata": {
        "id": "TlsypWVrVc_4"
      },
      "execution_count": null,
      "outputs": []
    },
    {
      "cell_type": "code",
      "source": [
        "# Using MultiLabelBinarizer because of the input being lists of disease codes\n",
        "mlb = MultiLabelBinarizer()\n",
        "encoded_diseaseClass = mlb.fit_transform(GDA_df['diseaseClass'])\n",
        "enc_df = pd.DataFrame(encoded_diseaseClass, columns=['diseaseClass_' + cols for cols in mlb.classes_])\n",
        "GDA_df = pd.concat([GDA_df.reset_index(drop=True), enc_df], axis=1)"
      ],
      "metadata": {
        "id": "5R3mO7X-f-iL"
      },
      "execution_count": null,
      "outputs": []
    },
    {
      "cell_type": "code",
      "source": [
        "disease_class_cols = [col for col in GDA_df.columns if col.startswith('diseaseClass')]\n",
        "GDA_df[disease_class_cols].head()"
      ],
      "metadata": {
        "id": "Y2jmZ2UThLjK"
      },
      "execution_count": null,
      "outputs": []
    },
    {
      "cell_type": "code",
      "source": [
        "GDA_df = GDA_df.drop(['diseaseClasses_UMLS_ST', 'diseaseClasses_MSH', 'diseaseClass'], axis=1)"
      ],
      "metadata": {
        "id": "wKWJ6uS0es1y"
      },
      "execution_count": null,
      "outputs": []
    },
    {
      "cell_type": "code",
      "source": [
        "GDA_df.info()"
      ],
      "metadata": {
        "id": "AGdVoSOCik0l"
      },
      "execution_count": null,
      "outputs": []
    },
    {
      "cell_type": "code",
      "source": [
        "GDA_df.rename(columns={'geneNcbiID': 'geneID', 'diseaseUMLSCUI_encoded': 'diseaseID'}, inplace=True)\n",
        "GDA_df.head()"
      ],
      "metadata": {
        "id": "aBVt41GFkMpk"
      },
      "execution_count": null,
      "outputs": []
    },
    {
      "cell_type": "code",
      "source": [
        "GDA_df.to_csv('preprocessed_GDA_df_cancer.csv', index=False)"
      ],
      "metadata": {
        "id": "aC2oF3MfnsQ9"
      },
      "execution_count": null,
      "outputs": []
    },
    {
      "cell_type": "markdown",
      "metadata": {
        "id": "15cIZZVIpAnV"
      },
      "source": [
        "# Adathalmaz előkészítés a modellhez\n"
      ]
    },
    {
      "cell_type": "code",
      "source": [
        "import networkx as nx\n",
        "\n",
        "# Create a directed graph\n",
        "G = nx.DiGraph()\n",
        "\n",
        "# Adding gene nodes\n",
        "gene_ids = GDA_df['geneID'].unique()\n",
        "G.add_nodes_from(gene_ids, node_type='gene')\n",
        "\n",
        "# Adding disease nodes\n",
        "disease_ids = GDA_df['diseaseID'].unique()\n",
        "G.add_nodes_from(disease_ids, node_type='disease')\n",
        "\n",
        "# Adding edges (gene to disease based on assocID)\n",
        "for idx, row in GDA_df.iterrows():\n",
        "    G.add_edge(row['geneID'], row['diseaseID'],\n",
        "               assocID=row['assocID'], score=row['score'])"
      ],
      "metadata": {
        "id": "yj6N0uQDpREs"
      },
      "execution_count": null,
      "outputs": []
    },
    {
      "cell_type": "code",
      "source": [
        "# Create gene features DataFrame\n",
        "gene_features = GDA_df.groupby('geneID').agg({\n",
        "    'geneDSI': 'mean',\n",
        "    'geneDPI': 'mean',\n",
        "    **{col: 'mean' for col in GDA_df.columns if 'geneType_' in col}\n",
        "}).reset_index()\n",
        "\n",
        "# Convert to dictionary\n",
        "gene_features_dict = gene_features.set_index('geneID').to_dict(orient='index')\n"
      ],
      "metadata": {
        "id": "QfQIcZDJq6QC"
      },
      "execution_count": null,
      "outputs": []
    },
    {
      "cell_type": "code",
      "source": [
        "# Create disease features DataFrame (can be adjusted based on relevant disease features)\n",
        "disease_features = GDA_df.groupby('diseaseUMLSCUI_encoded').agg({\n",
        "    **{col: 'mean' for col in GDA_df.columns if 'diseaseClass_' in col}\n",
        "}).reset_index()\n",
        "\n",
        "# Convert to dictionary\n",
        "disease_features_dict = disease_features.set_index('diseaseUMLSCUI_encoded).to_dict(orient='index')\n"
      ],
      "metadata": {
        "id": "eiIiycsIq83n"
      },
      "execution_count": null,
      "outputs": []
    },
    {
      "cell_type": "code",
      "source": [
        "# Adding edge features\n",
        "for idx, row in GDA_df.iterrows():\n",
        "    G.edges[row['geneNcbiID'], row['diseaseUMLSCUI_encoded']]['assocID'] = row['assocID']\n",
        "    G.edges[row['geneNcbiID'], row['diseaseUMLSCUI_encoded']]['score'] = row['score']\n"
      ],
      "metadata": {
        "id": "86VuzIRwq-V9"
      },
      "execution_count": null,
      "outputs": []
    },
    {
      "cell_type": "code",
      "source": [
        "from sklearn.model_selection import train_test_split\n",
        "\n",
        "# Get all edges\n",
        "edges = list(G.edges(data=True))\n",
        "\n",
        "# Split edges into train and test sets\n",
        "train_edges, test_edges = train_test_split(edges, test_size=0.2, random_state=42)\n",
        "\n",
        "# Creating DataFrames for train and test edges (optional)\n",
        "train_edges_df = pd.DataFrame(train_edges, columns=['source', 'target', 'data'])\n",
        "test_edges_df = pd.DataFrame(test_edges, columns=['source', 'target', 'data'])\n"
      ],
      "metadata": {
        "id": "AYZlnRVNq_3P"
      },
      "execution_count": null,
      "outputs": []
    }
  ],
  "metadata": {
    "colab": {
      "collapsed_sections": [
        "wqFIvG9u3RJS",
        "joeg1QICzPwE"
      ],
      "provenance": [],
      "include_colab_link": true
    },
    "kernelspec": {
      "display_name": "Python 3",
      "name": "python3"
    },
    "language_info": {
      "name": "python"
    }
  },
  "nbformat": 4,
  "nbformat_minor": 0
}